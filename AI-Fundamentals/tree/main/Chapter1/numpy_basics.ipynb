{
  "nbformat": 4,
  "nbformat_minor": 0,
  "metadata": {
    "colab": {
      "provenance": [],
      "authorship_tag": "ABX9TyMaLPcId7dOGCBRyoDAlCvS",
      "include_colab_link": true
    },
    "kernelspec": {
      "name": "python3",
      "display_name": "Python 3"
    },
    "language_info": {
      "name": "python"
    }
  },
  "cells": [
    {
      "cell_type": "markdown",
      "metadata": {
        "id": "view-in-github",
        "colab_type": "text"
      },
      "source": [
        "<a href=\"https://colab.research.google.com/github/dinhngocquan/AI-Fundamentals/blob/main/AI-Fundamentals/tree/main/Chapter1/numpy_basics.ipynb\" target=\"_parent\"><img src=\"https://colab.research.google.com/assets/colab-badge.svg\" alt=\"Open In Colab\"/></a>"
      ]
    },
    {
      "cell_type": "markdown",
      "source": [
        "# 1.   NumPy library:"
      ],
      "metadata": {
        "id": "Xd_L_XmI78AJ"
      }
    },
    {
      "cell_type": "markdown",
      "source": [
        "## 1.1. NumPy basics:"
      ],
      "metadata": {
        "id": "nKqkp4KC83DA"
      }
    },
    {
      "cell_type": "code",
      "source": [],
      "metadata": {
        "id": "7VxdYswW86F9"
      },
      "execution_count": null,
      "outputs": []
    }
  ]
}